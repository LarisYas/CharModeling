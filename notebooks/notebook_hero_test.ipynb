{
 "cells": [
  {
   "cell_type": "code",
   "execution_count": 8,
   "metadata": {},
   "outputs": [],
   "source": [
    "import torch \n",
    "from torch import nn, optim \n",
    "from torch.nn import functional as F \n",
    "from torch.utils.data import Dataset, DataLoader\n",
    "from torch.distributions.categorical import Categorical \n",
    "from torchmetrics import Accuracy \n",
    "import os \n",
    "import numpy as np "
   ]
  },
  {
   "cell_type": "code",
   "execution_count": 9,
   "metadata": {},
   "outputs": [],
   "source": [
    "with open('../data/heroes_of_our_times.txt', 'r') as file:\n",
    "    text = file.read()"
   ]
  },
  {
   "cell_type": "code",
   "execution_count": 10,
   "metadata": {},
   "outputs": [],
   "source": [
    "int2char = np.array(sorted(set(text)))\n",
    "char2int = { char : idx for idx, char in enumerate(int2char) }"
   ]
  },
  {
   "cell_type": "code",
   "execution_count": 17,
   "metadata": {},
   "outputs": [],
   "source": [
    "text_encoded = torch.tensor(np.array([ char2int[char] for char in text ]))"
   ]
  },
  {
   "cell_type": "code",
   "execution_count": 19,
   "metadata": {},
   "outputs": [],
   "source": [
    "seq_len = 80\n",
    "chunk_len = seq_len + 1\n",
    "chunks = [\n",
    "    text_encoded[start:chunk_len + start] for start in range(len(text_encoded) - chunk_len) \n",
    "]"
   ]
  },
  {
   "cell_type": "code",
   "execution_count": 23,
   "metadata": {},
   "outputs": [],
   "source": [
    "class TextDataset(Dataset):\n",
    "    def __init__(self, chunks):\n",
    "        self.chunks = chunks \n",
    "    \n",
    "    def __len__(self):\n",
    "        return len(self.chunks)\n",
    "    \n",
    "    def __getitem__(self, index):\n",
    "        chunk = self.chunks[index] \n",
    "        return chunk[:-1], chunk[1:] "
   ]
  },
  {
   "cell_type": "code",
   "execution_count": 24,
   "metadata": {},
   "outputs": [],
   "source": [
    "dataset = TextDataset(chunks)"
   ]
  },
  {
   "cell_type": "code",
   "execution_count": 26,
   "metadata": {},
   "outputs": [],
   "source": [
    "batch_size = 64\n",
    "\n",
    "\n",
    "train_dl = DataLoader(\n",
    "    dataset,\n",
    "    batch_size,\n",
    "    shuffle=True,\n",
    "    num_workers=os.cpu_count(),\n",
    "    pin_memory=True,\n",
    "    drop_last=True\n",
    ")"
   ]
  },
  {
   "cell_type": "code",
   "execution_count": 27,
   "metadata": {},
   "outputs": [
    {
     "data": {
      "text/plain": [
       "(127,)"
      ]
     },
     "execution_count": 27,
     "metadata": {},
     "output_type": "execute_result"
    }
   ],
   "source": [
    "int2char.shape"
   ]
  },
  {
   "cell_type": "code",
   "execution_count": 28,
   "metadata": {},
   "outputs": [],
   "source": [
    "class CharGenModel(nn.Module):\n",
    "    def __init__(self, vocab_size, emb_dim, rnn_hidden_size, lin_hidden_size, num_layers, dropout):\n",
    "        super().__init__()\n",
    "        self.embedding = nn.Embedding(\n",
    "            num_embeddings=vocab_size,\n",
    "            embedding_dim=emb_dim\n",
    "        )\n",
    "        \n",
    "        self.lstm = nn.LSTM(\n",
    "            input_size=emb_dim,\n",
    "            hidden_size=rnn_hidden_size,\n",
    "            num_layers=num_layers,\n",
    "            batch_first=True,\n",
    "            dropout=dropout\n",
    "        )\n",
    "        \n",
    "        self.classifier = nn.Sequential(\n",
    "            nn.Linear(rnn_hidden_size, lin_hidden_size),\n",
    "            nn.ReLU(inplace=True),\n",
    "            nn.Dropout(dropout),\n",
    "            nn.Linear(lin_hidden_size, vocab_size)\n",
    "        )\n",
    "        \n",
    "        self.num_layers = num_layers\n",
    "        self.rnn_hidden_size = rnn_hidden_size \n",
    "    \n",
    "    def forward(self, inputs, hidden, cell):\n",
    "        inputs = self.embedding(inputs).unsqueeze(1)\n",
    "        pred, (hidden, cell) = self.lstm(inputs, (hidden, cell))\n",
    "        pred = self.classifier(pred).view(pred.size(0), -1)\n",
    "        return pred, (hidden, cell)\n",
    "    \n",
    "    def init_hidden_cell(self, batch_size):\n",
    "        device = next(self.parameters()).device \n",
    "        hidden = torch.zeros(self.num_layers, batch_size, self.rnn_hidden_size).to(device)\n",
    "        cell = torch.zeros(self.num_layers, batch_size, self.rnn_hidden_size).to(device)\n",
    "        return hidden, cell \n",
    "        "
   ]
  },
  {
   "cell_type": "code",
   "execution_count": null,
   "metadata": {},
   "outputs": [],
   "source": [
    "emb_dim = 256\n",
    "rnn_hidden_size = 512 \n",
    "lin_hidden_size = 256\n",
    "num_layers = 2\n",
    "dropout_p = 0.5\n",
    "device = torch.device()"
   ]
  }
 ],
 "metadata": {
  "kernelspec": {
   "display_name": "dl_venv",
   "language": "python",
   "name": "python3"
  },
  "language_info": {
   "codemirror_mode": {
    "name": "ipython",
    "version": 3
   },
   "file_extension": ".py",
   "mimetype": "text/x-python",
   "name": "python",
   "nbconvert_exporter": "python",
   "pygments_lexer": "ipython3",
   "version": "3.10.12"
  }
 },
 "nbformat": 4,
 "nbformat_minor": 2
}
